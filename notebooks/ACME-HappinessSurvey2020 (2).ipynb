{
 "cells": [
  {
   "cell_type": "markdown",
   "id": "998eeaa6",
   "metadata": {},
   "source": [
    "# ACME-HappinessSurvey2020\n"
   ]
  },
  {
   "cell_type": "markdown",
   "id": "35017035",
   "metadata": {},
   "source": [
    "## Problem Statement\n",
    "\n",
    "We are one of the fastest growing startups in the logistics and delivery domain. We work with several partners and make on-demand delivery to our customers. During the COVID-19 pandemic, we are facing several different challenges and everyday we are trying to address these challenges.\n",
    "\n",
    "We thrive on making our customers happy. As a growing startup, with a global expansion strategy we know that we need to make our customers happy and the only way to do that is to measure how happy each customer is. If we can predict what makes our customers happy or unhappy, we can then take necessary actions.\n",
    "\n",
    "Getting feedback from customers is not easy either, but we do our best to get constant feedback from our customers. This is a crucial function to improve our operations across all levels.\n",
    "\n",
    "We recently did a survey to a select customer cohort. You are presented with a subset of this data. We will be using the remaining data as a private test set.\n",
    "\n",
    "### Goal(s):\n",
    "\n",
    "Predict if a customer is happy or not based on the answers they give to questions asked.\n",
    "\n",
    "### Success Metrics:\n",
    "\n",
    "Reach 73% accuracy score or above, or convince us why your solution is superior. We are definitely interested in every solution and insight you can provide us.\n",
    "\n",
    "### Bonus(es):\n",
    "\n",
    "We are very interested in finding which questions/features are more important when predicting a customer’s happiness. Using a feature selection approach, show us what is the minimal set of attributes/features that would preserve the most information about the problem while increasing predictability of the data we have. Is there any question that we can remove in our next survey?"
   ]
  },
  {
   "cell_type": "markdown",
   "id": "28987ae9",
   "metadata": {},
   "source": [
    "## Data Description:\n",
    "\n",
    "Y  = target attribute (Y) with values indicating 0 (unhappy) and 1 (happy) customers\n",
    "\n",
    "X1 = my order was delivered on time\n",
    "\n",
    "X2 = contents of my order was as I expected\n",
    "\n",
    "X3 = I ordered everything I wanted to order\n",
    "\n",
    "X4 = I paid a good price for my order\n",
    "\n",
    "X5 = I am satisfied with my courier\n",
    "\n",
    "X6 = the app makes ordering easy for me\n",
    "\n",
    "Attributes X1 to X6 indicate the responses for each question and have values from 1 to 5 where the smaller number indicates less and the higher number indicates more towards the answer."
   ]
  },
  {
   "cell_type": "markdown",
   "id": "2b0bb5e5",
   "metadata": {},
   "source": [
    "### This is a binary classificaton problem to predict wheather a customer would be happy or not based on feedbacks on services received.\n",
    "In this project a Classification Model will be used to categorize the target attribute"
   ]
  },
  {
   "cell_type": "code",
   "execution_count": 1,
   "id": "f01bc37a",
   "metadata": {},
   "outputs": [],
   "source": [
    "# Import the Libraries\n",
    "import numpy as np\n",
    "import pandas as pd\n",
    "import matplotlib.pyplot as plt\n",
    "import seaborn as sns\n",
    "%matplotlib inline\n",
    "import joblib\n",
    "\n",
    "# Import the Models and Methods\n",
    "from sklearn.tree import DecisionTreeClassifier\n",
    "from sklearn.svm import SVC\n",
    "from sklearn.neighbors import KNeighborsClassifier\n",
    "from xgboost import XGBClassifier\n",
    "from sklearn.linear_model import LogisticRegression\n",
    "from sklearn.ensemble import RandomForestClassifier\n",
    "\n",
    "from sklearn.feature_selection import SelectFromModel\n",
    "from sklearn.model_selection import train_test_split\n",
    " \n",
    "from sklearn.model_selection import GridSearchCV, cross_val_score\n",
    "from sklearn.feature_selection import VarianceThreshold, mutual_info_classif, chi2\n",
    "\n",
    "from sklearn.metrics import (f1_score, accuracy_score, \n",
    "                             recall_score, \n",
    "                             precision_score, \n",
    "                             confusion_matrix, \n",
    "                             roc_auc_score, \n",
    "                             plot_confusion_matrix, \n",
    "                             classification_report, \n",
    "                             precision_recall_curve)\n",
    "\n",
    "# Settings\n",
    "from sklearn import set_config\n",
    "set_config(print_changed_only=False)\n",
    "\n",
    "import warnings\n",
    "warnings.filterwarnings('ignore')"
   ]
  },
  {
   "cell_type": "markdown",
   "id": "92a95f7c",
   "metadata": {},
   "source": [
    "#### Get the data, explore it and process it for prediction Models"
   ]
  },
  {
   "cell_type": "code",
   "execution_count": 2,
   "id": "ebad1847",
   "metadata": {
    "scrolled": true
   },
   "outputs": [
    {
     "name": "stdout",
     "output_type": "stream",
     "text": [
      "(126, 7)\n"
     ]
    },
    {
     "data": {
      "text/html": [
       "<div>\n",
       "<style scoped>\n",
       "    .dataframe tbody tr th:only-of-type {\n",
       "        vertical-align: middle;\n",
       "    }\n",
       "\n",
       "    .dataframe tbody tr th {\n",
       "        vertical-align: top;\n",
       "    }\n",
       "\n",
       "    .dataframe thead th {\n",
       "        text-align: right;\n",
       "    }\n",
       "</style>\n",
       "<table border=\"1\" class=\"dataframe\">\n",
       "  <thead>\n",
       "    <tr style=\"text-align: right;\">\n",
       "      <th></th>\n",
       "      <th>Y</th>\n",
       "      <th>X1</th>\n",
       "      <th>X2</th>\n",
       "      <th>X3</th>\n",
       "      <th>X4</th>\n",
       "      <th>X5</th>\n",
       "      <th>X6</th>\n",
       "    </tr>\n",
       "  </thead>\n",
       "  <tbody>\n",
       "    <tr>\n",
       "      <th>0</th>\n",
       "      <td>0</td>\n",
       "      <td>3</td>\n",
       "      <td>3</td>\n",
       "      <td>3</td>\n",
       "      <td>4</td>\n",
       "      <td>2</td>\n",
       "      <td>4</td>\n",
       "    </tr>\n",
       "    <tr>\n",
       "      <th>1</th>\n",
       "      <td>0</td>\n",
       "      <td>3</td>\n",
       "      <td>2</td>\n",
       "      <td>3</td>\n",
       "      <td>5</td>\n",
       "      <td>4</td>\n",
       "      <td>3</td>\n",
       "    </tr>\n",
       "    <tr>\n",
       "      <th>2</th>\n",
       "      <td>1</td>\n",
       "      <td>5</td>\n",
       "      <td>3</td>\n",
       "      <td>3</td>\n",
       "      <td>3</td>\n",
       "      <td>3</td>\n",
       "      <td>5</td>\n",
       "    </tr>\n",
       "    <tr>\n",
       "      <th>3</th>\n",
       "      <td>0</td>\n",
       "      <td>5</td>\n",
       "      <td>4</td>\n",
       "      <td>3</td>\n",
       "      <td>3</td>\n",
       "      <td>3</td>\n",
       "      <td>5</td>\n",
       "    </tr>\n",
       "    <tr>\n",
       "      <th>4</th>\n",
       "      <td>0</td>\n",
       "      <td>5</td>\n",
       "      <td>4</td>\n",
       "      <td>3</td>\n",
       "      <td>3</td>\n",
       "      <td>3</td>\n",
       "      <td>5</td>\n",
       "    </tr>\n",
       "  </tbody>\n",
       "</table>\n",
       "</div>"
      ],
      "text/plain": [
       "   Y  X1  X2  X3  X4  X5  X6\n",
       "0  0   3   3   3   4   2   4\n",
       "1  0   3   2   3   5   4   3\n",
       "2  1   5   3   3   3   3   5\n",
       "3  0   5   4   3   3   3   5\n",
       "4  0   5   4   3   3   3   5"
      ]
     },
     "execution_count": 2,
     "metadata": {},
     "output_type": "execute_result"
    }
   ],
   "source": [
    "# Read in Dataset\n",
    "\n",
    "Dataset = pd.read_csv('..\\Public\\\\ACME-HappinessSurvey2020.csv')\n",
    "\n",
    "print(Dataset.shape)\n",
    "Dataset.head(5)"
   ]
  },
  {
   "cell_type": "code",
   "execution_count": 3,
   "id": "db062625",
   "metadata": {},
   "outputs": [
    {
     "name": "stdout",
     "output_type": "stream",
     "text": [
      "<class 'pandas.core.frame.DataFrame'>\n",
      "RangeIndex: 126 entries, 0 to 125\n",
      "Data columns (total 7 columns):\n",
      " #   Column  Non-Null Count  Dtype\n",
      "---  ------  --------------  -----\n",
      " 0   Y       126 non-null    int64\n",
      " 1   X1      126 non-null    int64\n",
      " 2   X2      126 non-null    int64\n",
      " 3   X3      126 non-null    int64\n",
      " 4   X4      126 non-null    int64\n",
      " 5   X5      126 non-null    int64\n",
      " 6   X6      126 non-null    int64\n",
      "dtypes: int64(7)\n",
      "memory usage: 7.0 KB\n"
     ]
    }
   ],
   "source": [
    "Dataset.info()"
   ]
  },
  {
   "cell_type": "code",
   "execution_count": 4,
   "id": "2491e666",
   "metadata": {
    "scrolled": true
   },
   "outputs": [
    {
     "data": {
      "text/html": [
       "<div>\n",
       "<style scoped>\n",
       "    .dataframe tbody tr th:only-of-type {\n",
       "        vertical-align: middle;\n",
       "    }\n",
       "\n",
       "    .dataframe tbody tr th {\n",
       "        vertical-align: top;\n",
       "    }\n",
       "\n",
       "    .dataframe thead th {\n",
       "        text-align: right;\n",
       "    }\n",
       "</style>\n",
       "<table border=\"1\" class=\"dataframe\">\n",
       "  <thead>\n",
       "    <tr style=\"text-align: right;\">\n",
       "      <th></th>\n",
       "      <th>Y</th>\n",
       "      <th>X1</th>\n",
       "      <th>X2</th>\n",
       "      <th>X3</th>\n",
       "      <th>X4</th>\n",
       "      <th>X5</th>\n",
       "      <th>X6</th>\n",
       "    </tr>\n",
       "  </thead>\n",
       "  <tbody>\n",
       "    <tr>\n",
       "      <th>count</th>\n",
       "      <td>126.000000</td>\n",
       "      <td>126.000000</td>\n",
       "      <td>126.000000</td>\n",
       "      <td>126.000000</td>\n",
       "      <td>126.000000</td>\n",
       "      <td>126.000000</td>\n",
       "      <td>126.000000</td>\n",
       "    </tr>\n",
       "    <tr>\n",
       "      <th>mean</th>\n",
       "      <td>0.547619</td>\n",
       "      <td>4.333333</td>\n",
       "      <td>2.531746</td>\n",
       "      <td>3.309524</td>\n",
       "      <td>3.746032</td>\n",
       "      <td>3.650794</td>\n",
       "      <td>4.253968</td>\n",
       "    </tr>\n",
       "    <tr>\n",
       "      <th>std</th>\n",
       "      <td>0.499714</td>\n",
       "      <td>0.800000</td>\n",
       "      <td>1.114892</td>\n",
       "      <td>1.023440</td>\n",
       "      <td>0.875776</td>\n",
       "      <td>1.147641</td>\n",
       "      <td>0.809311</td>\n",
       "    </tr>\n",
       "    <tr>\n",
       "      <th>min</th>\n",
       "      <td>0.000000</td>\n",
       "      <td>1.000000</td>\n",
       "      <td>1.000000</td>\n",
       "      <td>1.000000</td>\n",
       "      <td>1.000000</td>\n",
       "      <td>1.000000</td>\n",
       "      <td>1.000000</td>\n",
       "    </tr>\n",
       "    <tr>\n",
       "      <th>25%</th>\n",
       "      <td>0.000000</td>\n",
       "      <td>4.000000</td>\n",
       "      <td>2.000000</td>\n",
       "      <td>3.000000</td>\n",
       "      <td>3.000000</td>\n",
       "      <td>3.000000</td>\n",
       "      <td>4.000000</td>\n",
       "    </tr>\n",
       "    <tr>\n",
       "      <th>50%</th>\n",
       "      <td>1.000000</td>\n",
       "      <td>5.000000</td>\n",
       "      <td>3.000000</td>\n",
       "      <td>3.000000</td>\n",
       "      <td>4.000000</td>\n",
       "      <td>4.000000</td>\n",
       "      <td>4.000000</td>\n",
       "    </tr>\n",
       "    <tr>\n",
       "      <th>75%</th>\n",
       "      <td>1.000000</td>\n",
       "      <td>5.000000</td>\n",
       "      <td>3.000000</td>\n",
       "      <td>4.000000</td>\n",
       "      <td>4.000000</td>\n",
       "      <td>4.000000</td>\n",
       "      <td>5.000000</td>\n",
       "    </tr>\n",
       "    <tr>\n",
       "      <th>max</th>\n",
       "      <td>1.000000</td>\n",
       "      <td>5.000000</td>\n",
       "      <td>5.000000</td>\n",
       "      <td>5.000000</td>\n",
       "      <td>5.000000</td>\n",
       "      <td>5.000000</td>\n",
       "      <td>5.000000</td>\n",
       "    </tr>\n",
       "  </tbody>\n",
       "</table>\n",
       "</div>"
      ],
      "text/plain": [
       "                Y          X1          X2          X3          X4          X5  \\\n",
       "count  126.000000  126.000000  126.000000  126.000000  126.000000  126.000000   \n",
       "mean     0.547619    4.333333    2.531746    3.309524    3.746032    3.650794   \n",
       "std      0.499714    0.800000    1.114892    1.023440    0.875776    1.147641   \n",
       "min      0.000000    1.000000    1.000000    1.000000    1.000000    1.000000   \n",
       "25%      0.000000    4.000000    2.000000    3.000000    3.000000    3.000000   \n",
       "50%      1.000000    5.000000    3.000000    3.000000    4.000000    4.000000   \n",
       "75%      1.000000    5.000000    3.000000    4.000000    4.000000    4.000000   \n",
       "max      1.000000    5.000000    5.000000    5.000000    5.000000    5.000000   \n",
       "\n",
       "               X6  \n",
       "count  126.000000  \n",
       "mean     4.253968  \n",
       "std      0.809311  \n",
       "min      1.000000  \n",
       "25%      4.000000  \n",
       "50%      4.000000  \n",
       "75%      5.000000  \n",
       "max      5.000000  "
      ]
     },
     "execution_count": 4,
     "metadata": {},
     "output_type": "execute_result"
    }
   ],
   "source": [
    "Dataset.describe()"
   ]
  },
  {
   "cell_type": "code",
   "execution_count": 5,
   "id": "95eb9e92",
   "metadata": {},
   "outputs": [
    {
     "data": {
      "text/plain": [
       "<AxesSubplot:ylabel='Y'>"
      ]
     },
     "execution_count": 5,
     "metadata": {},
     "output_type": "execute_result"
    },
    {
     "data": {
      "image/png": "[encoded data removed]",
      "text/plain": [
       "<Figure size 640x480 with 1 Axes>"
      ]
     },
     "metadata": {},
     "output_type": "display_data"
    }
   ],
   "source": [
    "Dataset['Y'].value_counts().plot.pie(autopct='%1.1f%%')"
   ]
  },
  {
   "cell_type": "markdown",
   "id": "ba797a07",
   "metadata": {},
   "source": [
    "### Observations:\n",
    "* There are no missing values in the data\n",
    "\n",
    "* X2 \"contents of my order was as I expected\", has the lowest mean (average rating)\n",
    "* X2 \"contents of my order was as I expected\", X3 \"I ordered everything I wanted to order\" and X5 \"I am satisfied with my courier\"\n",
    "\n",
    "* 54.8% of the customers are happy with the service"
   ]
  },
  {
   "cell_type": "code",
   "execution_count": 6,
   "id": "24a3d584",
   "metadata": {},
   "outputs": [
    {
     "data": {
      "image/png": "[encoded data removed]",
      "text/plain": [
       "<Figure size 400x300 with 1 Axes>"
      ]
     },
     "metadata": {},
     "output_type": "display_data"
    },
    {
     "data": {
      "image/png": "[encoded data removed]",
      "text/plain": [
       "<Figure size 400x300 with 1 Axes>"
      ]
     },
     "metadata": {},
     "output_type": "display_data"
    },
    {
     "data": {
      "image/png": "[encoded data removed]",
      "text/plain": [
       "<Figure size 400x300 with 1 Axes>"
      ]
     },
     "metadata": {},
     "output_type": "display_data"
    },
    {
     "data": {
      "image/png": "[encoded data removed]",
      "text/plain": [
       "<Figure size 400x300 with 1 Axes>"
      ]
     },
     "metadata": {},
     "output_type": "display_data"
    },
    {
     "data": {
      "image/png": "[encoded data removed]",
      "text/plain": [
       "<Figure size 400x300 with 1 Axes>"
      ]
     },
     "metadata": {},
     "output_type": "display_data"
    },
    {
     "data": {
      "image/png": "[encoded data removed]",
      "text/plain": [
       "<Figure size 400x300 with 1 Axes>"
      ]
     },
     "metadata": {},
     "output_type": "display_data"
    }
   ],
   "source": [
    "X_variables = [\"X1\", \"X2\", \"X3\",\"X4\", \"X5\", \"X6\"]\n",
    "\n",
    "for i in X_variables:\n",
    "    (pd.crosstab(Dataset[i],Dataset['Y'],normalize='index')*100).plot(kind='bar',figsize=(4,3),stacked=True)\n",
    "    plt.ylabel('Percentage happiness %')"
   ]
  },
  {
   "cell_type": "code",
   "execution_count": 7,
   "id": "ff829098",
   "metadata": {},
   "outputs": [
    {
     "data": {
      "text/html": [
       "<div>\n",
       "<style scoped>\n",
       "    .dataframe tbody tr th:only-of-type {\n",
       "        vertical-align: middle;\n",
       "    }\n",
       "\n",
       "    .dataframe tbody tr th {\n",
       "        vertical-align: top;\n",
       "    }\n",
       "\n",
       "    .dataframe thead th {\n",
       "        text-align: right;\n",
       "    }\n",
       "</style>\n",
       "<table border=\"1\" class=\"dataframe\">\n",
       "  <thead>\n",
       "    <tr style=\"text-align: right;\">\n",
       "      <th></th>\n",
       "      <th>Y</th>\n",
       "      <th>X1</th>\n",
       "      <th>X2</th>\n",
       "      <th>X3</th>\n",
       "      <th>X4</th>\n",
       "      <th>X5</th>\n",
       "      <th>X6</th>\n",
       "    </tr>\n",
       "  </thead>\n",
       "  <tbody>\n",
       "    <tr>\n",
       "      <th>Y</th>\n",
       "      <td>1.000000</td>\n",
       "      <td>0.280160</td>\n",
       "      <td>-0.024274</td>\n",
       "      <td>0.150838</td>\n",
       "      <td>0.064415</td>\n",
       "      <td>0.224522</td>\n",
       "      <td>0.167669</td>\n",
       "    </tr>\n",
       "    <tr>\n",
       "      <th>X1</th>\n",
       "      <td>0.280160</td>\n",
       "      <td>1.000000</td>\n",
       "      <td>0.059797</td>\n",
       "      <td>0.283358</td>\n",
       "      <td>0.087541</td>\n",
       "      <td>0.432772</td>\n",
       "      <td>0.411873</td>\n",
       "    </tr>\n",
       "    <tr>\n",
       "      <th>X2</th>\n",
       "      <td>-0.024274</td>\n",
       "      <td>0.059797</td>\n",
       "      <td>1.000000</td>\n",
       "      <td>0.184129</td>\n",
       "      <td>0.114838</td>\n",
       "      <td>0.039996</td>\n",
       "      <td>-0.062205</td>\n",
       "    </tr>\n",
       "    <tr>\n",
       "      <th>X3</th>\n",
       "      <td>0.150838</td>\n",
       "      <td>0.283358</td>\n",
       "      <td>0.184129</td>\n",
       "      <td>1.000000</td>\n",
       "      <td>0.302618</td>\n",
       "      <td>0.358397</td>\n",
       "      <td>0.203750</td>\n",
       "    </tr>\n",
       "    <tr>\n",
       "      <th>X4</th>\n",
       "      <td>0.064415</td>\n",
       "      <td>0.087541</td>\n",
       "      <td>0.114838</td>\n",
       "      <td>0.302618</td>\n",
       "      <td>1.000000</td>\n",
       "      <td>0.293115</td>\n",
       "      <td>0.215888</td>\n",
       "    </tr>\n",
       "    <tr>\n",
       "      <th>X5</th>\n",
       "      <td>0.224522</td>\n",
       "      <td>0.432772</td>\n",
       "      <td>0.039996</td>\n",
       "      <td>0.358397</td>\n",
       "      <td>0.293115</td>\n",
       "      <td>1.000000</td>\n",
       "      <td>0.320195</td>\n",
       "    </tr>\n",
       "    <tr>\n",
       "      <th>X6</th>\n",
       "      <td>0.167669</td>\n",
       "      <td>0.411873</td>\n",
       "      <td>-0.062205</td>\n",
       "      <td>0.203750</td>\n",
       "      <td>0.215888</td>\n",
       "      <td>0.320195</td>\n",
       "      <td>1.000000</td>\n",
       "    </tr>\n",
       "  </tbody>\n",
       "</table>\n",
       "</div>"
      ],
      "text/plain": [
       "           Y        X1        X2        X3        X4        X5        X6\n",
       "Y   1.000000  0.280160 -0.024274  0.150838  0.064415  0.224522  0.167669\n",
       "X1  0.280160  1.000000  0.059797  0.283358  0.087541  0.432772  0.411873\n",
       "X2 -0.024274  0.059797  1.000000  0.184129  0.114838  0.039996 -0.062205\n",
       "X3  0.150838  0.283358  0.184129  1.000000  0.302618  0.358397  0.203750\n",
       "X4  0.064415  0.087541  0.114838  0.302618  1.000000  0.293115  0.215888\n",
       "X5  0.224522  0.432772  0.039996  0.358397  0.293115  1.000000  0.320195\n",
       "X6  0.167669  0.411873 -0.062205  0.203750  0.215888  0.320195  1.000000"
      ]
     },
     "execution_count": 7,
     "metadata": {},
     "output_type": "execute_result"
    }
   ],
   "source": [
    "# Correlation (For selecting the most correlated feature to the target)\n",
    "\n",
    "Dataset.corr()"
   ]
  },
  {
   "cell_type": "code",
   "execution_count": 8,
   "id": "aae88f90",
   "metadata": {},
   "outputs": [
    {
     "data": {
      "image/png": "[encoded data removed]",
      "text/plain": [
       "<Figure size 640x480 with 2 Axes>"
      ]
     },
     "metadata": {},
     "output_type": "display_data"
    }
   ],
   "source": [
    "cor = Dataset.corr()\n",
    "sns.heatmap(cor, annot=True, cmap=plt.cm.binary)\n",
    "plt.show()"
   ]
  },
  {
   "cell_type": "code",
   "execution_count": 9,
   "id": "c8a0c051",
   "metadata": {
    "scrolled": true
   },
   "outputs": [
    {
     "name": "stdout",
     "output_type": "stream",
     "text": [
      "Y     1.000000\n",
      "X1    0.280160\n",
      "X5    0.224522\n",
      "X6    0.167669\n",
      "X3    0.150838\n",
      "X4    0.064415\n",
      "X2   -0.024274\n",
      "Name: Y, dtype: float64\n"
     ]
    }
   ],
   "source": [
    "# Check how correlated each feature is to the target \n",
    "\n",
    "print(cor['Y'].sort_values(ascending=False))"
   ]
  },
  {
   "cell_type": "markdown",
   "id": "c32a18d5",
   "metadata": {},
   "source": [
    "## Observations from exploring the dataset\n",
    "\n",
    "* It shows that the ratings from customers for 'contents of my order was as I expected' (X2) and  'I paid a good price for my order' (X4) are the least correlated features to determine wheather the customers are happy or not. While 'my order was delivered on time' (X1) and ' I am satisfied with my courier' (X5) had the strongest correlation to the target attribute 'Y'\n",
    "\n",
    "* From the barplots it shows that 'I ordered everything I wanted to order' (X3) and 'the app makes ordering easy for me' (X6) didn't have direct impact on the happiness of the customers.\n",
    "\n",
    "* Also, the heatmap shows the X1, X5 and X6 are strongly correlated to each other."
   ]
  },
  {
   "cell_type": "code",
   "execution_count": 10,
   "id": "893a06a8",
   "metadata": {},
   "outputs": [
    {
     "name": "stdout",
     "output_type": "stream",
     "text": [
      "     X1  X2  X3  X4  X5  X6\n",
      "0     3   3   3   4   2   4\n",
      "1     3   2   3   5   4   3\n",
      "2     5   3   3   3   3   5\n",
      "3     5   4   3   3   3   5\n",
      "4     5   4   3   3   3   5\n",
      "..   ..  ..  ..  ..  ..  ..\n",
      "121   5   2   3   4   4   3\n",
      "122   5   2   3   4   2   5\n",
      "123   5   3   3   4   4   5\n",
      "124   4   3   3   4   4   5\n",
      "125   5   3   2   5   5   5\n",
      "\n",
      "[126 rows x 6 columns]\n",
      "0      0\n",
      "1      0\n",
      "2      1\n",
      "3      0\n",
      "4      0\n",
      "      ..\n",
      "121    1\n",
      "122    1\n",
      "123    1\n",
      "124    0\n",
      "125    0\n",
      "Name: Y, Length: 126, dtype: int64\n"
     ]
    }
   ],
   "source": [
    "# Define Features and Targets\n",
    "\n",
    "Y = Dataset ['Y']\n",
    "X = Dataset.drop('Y', axis=1)\n",
    "\n",
    "print (X)\n",
    "print (Y)"
   ]
  },
  {
   "cell_type": "markdown",
   "id": "8fe032ec",
   "metadata": {},
   "source": [
    "### Split Dataset into Training and Test/Validation Set (80/20)"
   ]
  },
  {
   "cell_type": "code",
   "execution_count": 11,
   "id": "63793361",
   "metadata": {},
   "outputs": [],
   "source": [
    "X_train, X_test, Y_train, Y_test = train_test_split(X, Y, test_size=0.2)"
   ]
  },
  {
   "cell_type": "markdown",
   "id": "e8503fcc",
   "metadata": {},
   "source": [
    "### Model Selection:\n",
    "\n",
    "Here, five classifiers that work well on structured data for binary classification would be used. This will help us understand which model(s) work better.\n",
    "\n",
    "### Hyperparameter turning:\n",
    "\n",
    "These models would be optimized using the randomstate parameter in the following steps:\n",
    "* Testing 50 values of random_state parameter on them.\n",
    "* Storing best models as values of the dictionary created.\n",
    "* and plotting the metric report for each model.\n"
   ]
  },
  {
   "cell_type": "code",
   "execution_count": 12,
   "id": "b5c064a8",
   "metadata": {},
   "outputs": [],
   "source": [
    "def load_model(name):\n",
    "    if name=='DecisionTreeClassifier':\n",
    "        model=DecisionTreeClassifier()\n",
    "    elif name=='RandomForestClassifier':\n",
    "        model=RandomForestClassifier()\n",
    "    elif name=='KNeighborsClassifier':\n",
    "        model=KNeighborsClassifier()    \n",
    "    elif name=='SVC':\n",
    "        model=SVC() \n",
    "    elif name=='LogisticRegression':\n",
    "        model=LogisticRegression() \n",
    "    return model"
   ]
  },
  {
   "cell_type": "code",
   "execution_count": 13,
   "id": "5405a78f",
   "metadata": {},
   "outputs": [
    {
     "data": {
      "text/plain": [
       "{'DecisionTreeClassifier': None,\n",
       " 'RandomForestClassifier': None,\n",
       " 'KNeighborsClassifier': None,\n",
       " 'SVC': None,\n",
       " 'LogisticRegression': None}"
      ]
     },
     "execution_count": 13,
     "metadata": {},
     "output_type": "execute_result"
    }
   ],
   "source": [
    "list_models = ['DecisionTreeClassifier', 'RandomForestClassifier', 'KNeighborsClassifier', 'SVC', 'LogisticRegression' ]\n",
    "\n",
    "dict_models = dict()\n",
    "dict_models.fromkeys(list_models)"
   ]
  },
  {
   "cell_type": "code",
   "execution_count": 14,
   "id": "e9c19fd8",
   "metadata": {},
   "outputs": [
    {
     "name": "stdout",
     "output_type": "stream",
     "text": [
      "best score of  DecisionTreeClassifier is : 0.7307692307692307 with the random_state: 21\n",
      "\n",
      " report of the model:  DecisionTreeClassifier \n",
      "               precision    recall  f1-score   support\n",
      "\n",
      "           0       0.92      1.00      0.96        12\n",
      "           1       1.00      0.93      0.96        14\n",
      "\n",
      "    accuracy                           0.96        26\n",
      "   macro avg       0.96      0.96      0.96        26\n",
      "weighted avg       0.96      0.96      0.96        26\n",
      " \n",
      "\n",
      "best score of  RandomForestClassifier is : 0.7692307692307693 with the random_state: 20\n",
      "\n",
      " report of the model:  RandomForestClassifier \n",
      "               precision    recall  f1-score   support\n",
      "\n",
      "           0       0.83      0.83      0.83        12\n",
      "           1       0.86      0.86      0.86        14\n",
      "\n",
      "    accuracy                           0.85        26\n",
      "   macro avg       0.85      0.85      0.85        26\n",
      "weighted avg       0.85      0.85      0.85        26\n",
      " \n",
      "\n",
      "best score of  KNeighborsClassifier is : 0.6923076923076923 with the random_state: 34\n",
      "\n",
      " report of the model:  KNeighborsClassifier \n",
      "               precision    recall  f1-score   support\n",
      "\n",
      "           0       0.82      0.75      0.78        12\n",
      "           1       0.80      0.86      0.83        14\n",
      "\n",
      "    accuracy                           0.81        26\n",
      "   macro avg       0.81      0.80      0.81        26\n",
      "weighted avg       0.81      0.81      0.81        26\n",
      " \n",
      "\n",
      "best score of  SVC is : 0.6538461538461539 with the random_state: 27\n",
      "\n",
      " report of the model:  SVC \n",
      "               precision    recall  f1-score   support\n",
      "\n",
      "           0       0.71      0.83      0.77        12\n",
      "           1       0.83      0.71      0.77        14\n",
      "\n",
      "    accuracy                           0.77        26\n",
      "   macro avg       0.77      0.77      0.77        26\n",
      "weighted avg       0.78      0.77      0.77        26\n",
      " \n",
      "\n",
      "best score of  LogisticRegression is : 0.6923076923076923 with the random_state: 10\n",
      "\n",
      " report of the model:  LogisticRegression \n",
      "               precision    recall  f1-score   support\n",
      "\n",
      "           0       0.50      0.42      0.45        12\n",
      "           1       0.56      0.64      0.60        14\n",
      "\n",
      "    accuracy                           0.54        26\n",
      "   macro avg       0.53      0.53      0.53        26\n",
      "weighted avg       0.53      0.54      0.53        26\n",
      " \n",
      "\n"
     ]
    }
   ],
   "source": [
    "np.random.seed(0)\n",
    "for model in list_models:\n",
    "    L=[]\n",
    "    for i in range(0,50):\n",
    "        X_train,X_test,Y_train,Y_test=train_test_split(X,Y, test_size=0.2, random_state=i)\n",
    "        modele =load_model(model)\n",
    "        modele.fit(X_train,Y_train)\n",
    "        sc_train=modele.score(X_train,Y_train)\n",
    "        sc_test=modele.score(X_test,Y_test)\n",
    "        L.append(sc_test)\n",
    "        if sc_test >= max(L):\n",
    "            model_max=modele\n",
    "    dict_models[model]=model_max\n",
    "    print(\"best score of \",model,\"is :\",max(L),\"with the random_state:\",L.index(max(L)))\n",
    "    Y_pred = dict_models[model].predict(X_test)\n",
    "    print(\"\\n report of the model: \", model,\"\\n\", classification_report(Y_test, Y_pred),\"\\n\")"
   ]
  },
  {
   "cell_type": "code",
   "execution_count": 15,
   "id": "45afd3a1",
   "metadata": {
    "scrolled": true
   },
   "outputs": [
    {
     "data": {
      "image/png": "[encoded data removed]",
      "text/plain": [
       "<Figure size 640x480 with 2 Axes>"
      ]
     },
     "metadata": {},
     "output_type": "display_data"
    }
   ],
   "source": [
    "plot_confusion_matrix(dict_models['DecisionTreeClassifier'], X_test, Y_test)  \n",
    "plt.show()"
   ]
  },
  {
   "cell_type": "code",
   "execution_count": 16,
   "id": "f9197a4e",
   "metadata": {},
   "outputs": [
    {
     "data": {
      "image/png": "[encoded data removed]",
      "text/plain": [
       "<Figure size 640x480 with 2 Axes>"
      ]
     },
     "metadata": {},
     "output_type": "display_data"
    }
   ],
   "source": [
    "plot_confusion_matrix(dict_models['RandomForestClassifier'], X_test, Y_test)  \n",
    "plt.show()"
   ]
  },
  {
   "cell_type": "code",
   "execution_count": 17,
   "id": "14206865",
   "metadata": {},
   "outputs": [
    {
     "data": {
      "image/png": "[encoded data removed]",
      "text/plain": [
       "<Figure size 640x480 with 2 Axes>"
      ]
     },
     "metadata": {},
     "output_type": "display_data"
    }
   ],
   "source": [
    "plot_confusion_matrix(dict_models['KNeighborsClassifier'], X_test, Y_test)  \n",
    "plt.show()"
   ]
  },
  {
   "cell_type": "code",
   "execution_count": 18,
   "id": "10832d9a",
   "metadata": {},
   "outputs": [
    {
     "data": {
      "image/png": "[encoded data removed]",
      "text/plain": [
       "<Figure size 640x480 with 2 Axes>"
      ]
     },
     "metadata": {},
     "output_type": "display_data"
    }
   ],
   "source": [
    "plot_confusion_matrix(dict_models['SVC'], X_test, Y_test)  \n",
    "plt.show()"
   ]
  },
  {
   "cell_type": "markdown",
   "id": "dccb2932",
   "metadata": {},
   "source": [
    "### Observation:\n",
    "\n",
    "* from above, it shows that the Decision tree and Random forest performed better. However, the Decision tree did better on precision and recall, as the positive class is crutial. \n",
    "* it showa that just 1 label out of 14 from the class 1 was a wrong prediction. Also none of the 12 labels from the class 0 was  wrongly predicted.\n",
    "\n",
    "Let's review again, Accuracy and Precision scores of both DecisionTree and RandomForest models, which have the best results from the previous section."
   ]
  },
  {
   "cell_type": "code",
   "execution_count": 19,
   "id": "d401428a",
   "metadata": {},
   "outputs": [
    {
     "name": "stdout",
     "output_type": "stream",
     "text": [
      "precision of DecisionTreeClassifier is: 1.0\n",
      "accuracy of DecisionTreeClassifier is: 0.9615384615384616\n"
     ]
    }
   ],
   "source": [
    "Y_pred_dt = dict_models['DecisionTreeClassifier'].predict(X_test)\n",
    "print('precision of DecisionTreeClassifier is:', precision_score(Y_test,Y_pred_dt))\n",
    "print('accuracy of DecisionTreeClassifier is:', accuracy_score(Y_test,Y_pred_dt))"
   ]
  },
  {
   "cell_type": "code",
   "execution_count": 20,
   "id": "405fedea",
   "metadata": {},
   "outputs": [
    {
     "name": "stdout",
     "output_type": "stream",
     "text": [
      "precision of RandomForestClassifier is: 0.8571428571428571\n",
      "accuracy of RandomForestClassifierr is: 0.8461538461538461\n"
     ]
    }
   ],
   "source": [
    "Y_pred_rf = dict_models['RandomForestClassifier'].predict(X_test)\n",
    "print('precision of RandomForestClassifier is:', precision_score(Y_test,Y_pred_rf))\n",
    "print('accuracy of RandomForestClassifierr is:', accuracy_score(Y_test,Y_pred_rf))"
   ]
  },
  {
   "cell_type": "markdown",
   "id": "5b0883c4",
   "metadata": {},
   "source": [
    "## Final Decision\n",
    "\n",
    "After reviewing the results above, the DecisionTree model is best fit for this project. Decision Tree Model stood out not only in accuracy but also in percision and recall, perfectly detecting 'unhappy customers'. Hence, it would be saved as the base model.\n",
    "\n",
    "Before applying some feature selection, let's save the two models locally."
   ]
  },
  {
   "cell_type": "code",
   "execution_count": 21,
   "id": "cf55ba1a",
   "metadata": {},
   "outputs": [
    {
     "data": {
      "text/plain": [
       "['RandomForestClassifier_model_best.sav']"
      ]
     },
     "execution_count": 21,
     "metadata": {},
     "output_type": "execute_result"
    }
   ],
   "source": [
    "# save models to disk\n",
    "\n",
    "file_DecisionTree_Model = 'DecisionTreeClassiifier_model_best.sav'\n",
    "file_RandomForest_Model = 'RandomForestClassifier_model_best.sav'\n",
    "joblib.dump(dict_models['DecisionTreeClassifier'], file_DecisionTree_Model)\n",
    "joblib.dump(dict_models['RandomForestClassifier'], file_RandomForest_Model)"
   ]
  },
  {
   "cell_type": "code",
   "execution_count": 22,
   "id": "259ce2df",
   "metadata": {},
   "outputs": [
    {
     "data": {
      "text/plain": [
       "\"\\nloaded_model = joblib.load('DecisionTreeClassifier_model_best.sav')\\nresult = loaded_model.score(X_test, Y_test)\\nprint(result)\\n\""
      ]
     },
     "execution_count": 22,
     "metadata": {},
     "output_type": "execute_result"
    }
   ],
   "source": [
    "#  here is the code to load the model from disk\n",
    "'''\n",
    "loaded_model = joblib.load('DecisionTreeClassifier_model_best.sav')\n",
    "result = loaded_model.score(X_test, Y_test)\n",
    "print(result)\n",
    "'''"
   ]
  },
  {
   "cell_type": "markdown",
   "id": "acc0b824",
   "metadata": {},
   "source": [
    "### Feature Selection:\n",
    "This is to find which questions/features are more important when predicting a customer’s happiness.\n",
    "Firstly, the dependence of the features to the target will be examined and the using the SelectFromModel method."
   ]
  },
  {
   "cell_type": "markdown",
   "id": "771f2d27",
   "metadata": {},
   "source": [
    "#### Checking for denpendency between the features anf target"
   ]
  },
  {
   "cell_type": "code",
   "execution_count": 23,
   "id": "c3a74dfc",
   "metadata": {},
   "outputs": [
    {
     "data": {
      "text/plain": [
       "(array([1.44904066, 0.03616135, 0.90010372, 0.106194  , 2.27328624,\n",
       "        0.54107039]),\n",
       " array([0.22868195, 0.84918268, 0.3427539 , 0.74451953, 0.13162055,\n",
       "        0.46198946]))"
      ]
     },
     "execution_count": 23,
     "metadata": {},
     "output_type": "execute_result"
    }
   ],
   "source": [
    "chi_scores = chi2(X, Y)\n",
    "chi_scores"
   ]
  },
  {
   "cell_type": "code",
   "execution_count": 24,
   "id": "4840f358",
   "metadata": {},
   "outputs": [
    {
     "data": {
      "text/plain": [
       "<AxesSubplot:>"
      ]
     },
     "execution_count": 24,
     "metadata": {},
     "output_type": "execute_result"
    },
    {
     "data": {
      "image/png": "[encoded data removed]",
      "text/plain": [
       "<Figure size 640x480 with 1 Axes>"
      ]
     },
     "metadata": {},
     "output_type": "display_data"
    }
   ],
   "source": [
    "p_values = pd.Series(chi_scores[1],index = X.columns)\n",
    "p_values.sort_values(ascending = False , inplace = True)\n",
    "p_values.plot.bar()"
   ]
  },
  {
   "cell_type": "markdown",
   "id": "8b160971",
   "metadata": {},
   "source": [
    "From the fig above X2, X4, and X6 have the highest p_values, hence, are the most independent variables in the data"
   ]
  },
  {
   "cell_type": "code",
   "execution_count": 25,
   "id": "c76b3101",
   "metadata": {},
   "outputs": [
    {
     "data": {
      "text/plain": [
       "Index(['X1', 'X3', 'X5'], dtype='object')"
      ]
     },
     "execution_count": 25,
     "metadata": {},
     "output_type": "execute_result"
    }
   ],
   "source": [
    "np.random.seed(2)\n",
    "selector=SelectFromModel(dict_models['DecisionTreeClassifier'])\n",
    "selector.fit_transform(X_train,Y_train)\n",
    "selector.get_support()\n",
    "selected_feat=X.columns[(selector.get_support())]\n",
    "selected_feat"
   ]
  },
  {
   "cell_type": "markdown",
   "id": "3b7fa121",
   "metadata": {},
   "source": [
    "The output above shows that X1, X3 and X5 are the most relevant features in the model.\n",
    "Now, let's drop X2, X4 and X6"
   ]
  },
  {
   "cell_type": "code",
   "execution_count": 26,
   "id": "66ab631c",
   "metadata": {},
   "outputs": [],
   "source": [
    "# Defining the new features and target \n",
    "\n",
    "new_dataset = Dataset.drop(['X2','X4','X6'],axis=1)\n",
    "X_new = new_dataset.drop('Y', axis=1) # this keeps only the relevant features X1, X5 and X3\n",
    "Y_new = new_dataset['Y'] # select the target Y"
   ]
  },
  {
   "cell_type": "code",
   "execution_count": 27,
   "id": "7a2d3aa2",
   "metadata": {},
   "outputs": [
    {
     "data": {
      "text/plain": [
       "{'DecisionTreeClassifier': None,\n",
       " 'RandomForestClassifier': None,\n",
       " 'KNeighborsClassifier': None,\n",
       " 'SVC': None,\n",
       " 'LogisticRegression': None}"
      ]
     },
     "execution_count": 27,
     "metadata": {},
     "output_type": "execute_result"
    }
   ],
   "source": [
    "#Defining another dictionary to store best models after feature selection\n",
    "\n",
    "dict_models_2=dict()\n",
    "dict_models_2.fromkeys(list_models)"
   ]
  },
  {
   "cell_type": "code",
   "execution_count": 28,
   "id": "37c7a79b",
   "metadata": {},
   "outputs": [
    {
     "name": "stdout",
     "output_type": "stream",
     "text": [
      "best score of  DecisionTreeClassifier is : 0.8076923076923077 with the random_state: 8\n",
      "\n",
      " report of the model:  DecisionTreeClassifier \n",
      "               precision    recall  f1-score   support\n",
      "\n",
      "           0       0.75      0.75      0.75        12\n",
      "           1       0.79      0.79      0.79        14\n",
      "\n",
      "    accuracy                           0.77        26\n",
      "   macro avg       0.77      0.77      0.77        26\n",
      "weighted avg       0.77      0.77      0.77        26\n",
      " \n",
      "\n",
      "best score of  RandomForestClassifier is : 0.8076923076923077 with the random_state: 34\n",
      "\n",
      " report of the model:  RandomForestClassifier \n",
      "               precision    recall  f1-score   support\n",
      "\n",
      "           0       0.75      0.75      0.75        12\n",
      "           1       0.79      0.79      0.79        14\n",
      "\n",
      "    accuracy                           0.77        26\n",
      "   macro avg       0.77      0.77      0.77        26\n",
      "weighted avg       0.77      0.77      0.77        26\n",
      " \n",
      "\n",
      "best score of  KNeighborsClassifier is : 0.7692307692307693 with the random_state: 34\n",
      "\n",
      " report of the model:  KNeighborsClassifier \n",
      "               precision    recall  f1-score   support\n",
      "\n",
      "           0       0.70      0.58      0.64        12\n",
      "           1       0.69      0.79      0.73        14\n",
      "\n",
      "    accuracy                           0.69        26\n",
      "   macro avg       0.69      0.68      0.68        26\n",
      "weighted avg       0.69      0.69      0.69        26\n",
      " \n",
      "\n",
      "best score of  SVC is : 0.7692307692307693 with the random_state: 15\n",
      "\n",
      " report of the model:  SVC \n",
      "               precision    recall  f1-score   support\n",
      "\n",
      "           0       0.75      0.75      0.75        12\n",
      "           1       0.79      0.79      0.79        14\n",
      "\n",
      "    accuracy                           0.77        26\n",
      "   macro avg       0.77      0.77      0.77        26\n",
      "weighted avg       0.77      0.77      0.77        26\n",
      " \n",
      "\n",
      "best score of  LogisticRegression is : 0.7307692307692307 with the random_state: 45\n",
      "\n",
      " report of the model:  LogisticRegression \n",
      "               precision    recall  f1-score   support\n",
      "\n",
      "           0       0.50      0.50      0.50        12\n",
      "           1       0.57      0.57      0.57        14\n",
      "\n",
      "    accuracy                           0.54        26\n",
      "   macro avg       0.54      0.54      0.54        26\n",
      "weighted avg       0.54      0.54      0.54        26\n",
      " \n",
      "\n"
     ]
    }
   ],
   "source": [
    "# Applying same model selection method as used above\n",
    "\n",
    "np.random.seed(0)\n",
    "for model in list_models:\n",
    "    L=[]\n",
    "    for i in range(0,50):\n",
    "        X_train_n, X_test_n, Y_train_n, Y_test_n = train_test_split(X_new, Y_new, test_size=0.2, random_state=i)\n",
    "        modele = load_model(model)\n",
    "        modele.fit(X_train_n,Y_train_n)\n",
    "        sc_train = modele.score(X_train_n,Y_train_n)\n",
    "        sc_test = modele.score(X_test_n,Y_test_n)\n",
    "        L.append(sc_test)\n",
    "        if sc_test >= max(L):\n",
    "            model_max = modele\n",
    "    dict_models_2[model] = model_max\n",
    "    print(\"best score of \",model,\"is :\",max(L),\"with the random_state:\",L.index(max(L)))\n",
    "    Y_pred_n = dict_models_2[model].predict(X_test_n)\n",
    "    print(\"\\n report of the model: \", model,\"\\n\", classification_report(Y_test_n, Y_pred_n),\"\\n\")"
   ]
  },
  {
   "cell_type": "markdown",
   "id": "2a9a87bb",
   "metadata": {},
   "source": [
    "After Feature selection both DecisionTree and RandomForest models have the same results and can be can considered equally. "
   ]
  }
 ],
 "metadata": {
  "kernelspec": {
   "display_name": "Python 3 (ipykernel)",
   "language": "python",
   "name": "python3"
  },
  "language_info": {
   "codemirror_mode": {
    "name": "ipython",
    "version": 3
   },
   "file_extension": ".py",
   "mimetype": "text/x-python",
   "name": "python",
   "nbconvert_exporter": "python",
   "pygments_lexer": "ipython3",
   "version": "3.9.13"
  }
 },
 "nbformat": 4,
 "nbformat_minor": 5
}
